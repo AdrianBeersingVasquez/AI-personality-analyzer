{
 "cells": [
  {
   "cell_type": "code",
   "execution_count": 8,
   "id": "5009b566",
   "metadata": {},
   "outputs": [],
   "source": [
    "import google.generativeai as genai\n",
    "import os\n",
    "from dotenv import load_dotenv\n",
    "import random\n"
   ]
  },
  {
   "cell_type": "code",
   "execution_count": null,
   "id": "6b0b1c6a",
   "metadata": {},
   "outputs": [],
   "source": [
    "load_dotenv()  # Load API key from .env\n",
    "\n",
    "GEMINI_API_KEY = os.getenv(\"GEMINI_API_KEY\")\n",
    "\n",
    "if GEMINI_API_KEY:\n",
    "    print(\"API key loaded successfully!\")\n",
    "else:\n",
    "    print(\"Failed to load API key. Check .env file.\")\n"
   ]
  },
  {
   "cell_type": "code",
   "execution_count": null,
   "id": "74633ad5",
   "metadata": {},
   "outputs": [],
   "source": [
    "genai.configure(api_key=GEMINI_API_KEY)\n",
    "\n",
    "# Ask the user for custom themes\n",
    "#themes = input(\"Select themes for the quiz (e.g., space travel, medieval duels, cooking disasters): \").strip()\n",
    "themes = input(\"Select themes for the quiz. Can be your hobbies, situations, or anything else\").strip()\n",
    "\n",
    "if not themes:\n",
    "    print(\"No themes entered! Defaulting to 'random absurdity'.\")\n",
    "    themes = \"random absurdity\"\n",
    "\n"
   ]
  },
  {
   "cell_type": "code",
   "execution_count": null,
   "id": "2e9ad171",
   "metadata": {},
   "outputs": [],
   "source": [
    "def generate_scenario_and_actions(themes):\n",
    "    prompt = f\"\"\"\n",
    "    Create a funny, weird, or dramatic situation based on the following themes: {themes}.\n",
    "    The situation should require a decision from the user.\n",
    "    Then provide two possible actions the user can take. Make them interesting and different from each other.\n",
    "    \n",
    "    Format the response like this:\n",
    "    ---\n",
    "    Situation: [Generated situation]\n",
    "    \n",
    "    1. [First action]\n",
    "    2. [Second action]\n",
    "    ---\n",
    "    \"\"\"\n",
    "\n",
    "    response = genai.generate_text(prompt)\n",
    "    \n",
    "    return response.result.strip()\n"
   ]
  },
  {
   "cell_type": "code",
   "execution_count": null,
   "id": "272cfe3c",
   "metadata": {},
   "outputs": [],
   "source": [
    "# Store user choices\n",
    "user_choices = []\n",
    "\n",
    "print(\"\\nLet's learn a little about who you are\\n\")\n",
    "\n",
    "for round_num in range(3):  # Run 3 rounds\n",
    "    print(f\"\\nRound {round_num + 1}\")\n",
    "\n",
    "    # Get AI-generated scenario and actions\n",
    "    scenario_output = generate_scenario_and_actions(themes)\n",
    "\n",
    "    # Parse the output (assuming the AI follows the format)\n",
    "    lines = scenario_output.split(\"\\n\")\n",
    "    situation = lines[1].replace(\"Situation: \", \"\").strip()\n",
    "    action_1 = lines[3][3:].strip()  # Removing \"1. \"\n",
    "    action_2 = lines[4][3:].strip()  # Removing \"2. \"\n",
    "\n",
    "    choice = input(\"Pick an option (1/2): \").strip()\n",
    "    if choice not in [\"1\", \"2\"]:\n",
    "        print(\"Invalid choice! Choosing randomly for you...\")\n",
    "        choice = str(random.choice([\"1\", \"2\"]))\n",
    "\n",
    "    user_choices.append(action_1 if choice == \"1\" else action_2)\n",
    "\n",
    "print(\"\\nQuiz complete! Analyzing your personality...\\n\")"
   ]
  }
 ],
 "metadata": {
  "kernelspec": {
   "display_name": "base",
   "language": "python",
   "name": "python3"
  },
  "language_info": {
   "codemirror_mode": {
    "name": "ipython",
    "version": 3
   },
   "file_extension": ".py",
   "mimetype": "text/x-python",
   "name": "python",
   "nbconvert_exporter": "python",
   "pygments_lexer": "ipython3",
   "version": "3.10.9"
  }
 },
 "nbformat": 4,
 "nbformat_minor": 5
}
