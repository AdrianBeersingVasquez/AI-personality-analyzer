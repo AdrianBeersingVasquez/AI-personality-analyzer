{
 "cells": [
  {
   "cell_type": "code",
   "execution_count": 8,
   "id": "5009b566",
   "metadata": {},
   "outputs": [],
   "source": [
    "import google.generativeai as genai\n",
    "import os\n",
    "from dotenv import load_dotenv\n",
    "import random\n"
   ]
  },
  {
   "cell_type": "code",
   "execution_count": null,
   "id": "6b0b1c6a",
   "metadata": {},
   "outputs": [],
   "source": [
    "load_dotenv()  # Load API key from .env\n",
    "\n",
    "GEMINI_API_KEY = os.getenv(\"GEMINI_API_KEY\")\n",
    "\n",
    "if GEMINI_API_KEY:\n",
    "    print(\"API key loaded successfully!\")\n",
    "else:\n",
    "    print(\"Failed to load API key. Check .env file.\")\n"
   ]
  },
  {
   "cell_type": "code",
   "execution_count": null,
   "id": "74633ad5",
   "metadata": {},
   "outputs": [],
   "source": [
    "genai.configure(api_key=GEMINI_API_KEY)\n",
    "\n",
    "# Ask the user for custom themes\n",
    "#themes = input(\"Select themes for the quiz (e.g., space travel, medieval duels, cooking disasters): \").strip()\n",
    "themes = input(\"Select themes for the quiz. Can be your hobbies, situations, or anything else\").strip()\n",
    "\n",
    "if not themes:\n",
    "    print(\"No themes entered! Defaulting to 'random absurdity'.\")\n",
    "    themes = \"random absurdity\"\n",
    "\n"
   ]
  },
  {
   "cell_type": "code",
   "execution_count": null,
   "id": "2e9ad171",
   "metadata": {},
   "outputs": [],
   "source": [
    "def generate_scenario_and_actions(themes):\n",
    "    prompt = f\"\"\"\n",
    "    Create a funny or dramatic situation based on only a single one of the following themes: {themes}.\n",
    "    The situation should require a decision from the user. Use no more than 50 words. The situtaion should be written in the second person.\n",
    "    The situation should be different to any of the previous ones generated.\n",
    "    Then provide two possible actions the user can take. Make them interesting and different from each other.\n",
    "    \n",
    "    Example situation:\n",
    "    \"You're competing in a high-stakes underground cooking competition where the secret ingredient is marshmallows. What do you do?\"\n",
    "\n",
    "\n",
    "    Format the response like this:\n",
    "    ---\n",
    "    Situation: [Generated situation]\n",
    "    \n",
    "    1. [First action]\n",
    "    2. [Second action]\n",
    "    ---\n",
    "    \"\"\"\n",
    "\n",
    "    model = genai.GenerativeModel(\"gemini-1.5-flash\")\n",
    "    response = model.generate_content(prompt)\n",
    "    \n",
    "    return response.text.strip()\n"
   ]
  },
  {
   "cell_type": "code",
   "execution_count": 36,
   "id": "272cfe3c",
   "metadata": {},
   "outputs": [
    {
     "name": "stdout",
     "output_type": "stream",
     "text": [
      "\n",
      "Let's learn a little about who you are\n",
      "\n",
      "\n",
      "Round 1\n",
      "\n",
      "Situation: Your meticulously planned backpacking trip through the Himalayas has been derailed. A rogue yak has stolen your meticulously packed backpack, containing your passport, money, and extra socks.  Do you chase the yak or try to hitchhike with a grumpy sherpa who smells strongly of yak butter?\n",
      "\n",
      "1. Engage in a thrilling yak-chasing marathon across treacherous mountain terrain.\n",
      "2. Accept the sherpa's dubious offer, hoping his questionable hygiene is less problematic than a passport-less trek.\n",
      "\n",
      "Quiz complete! Analyzing your personality...\n",
      "\n"
     ]
    }
   ],
   "source": [
    "# Store user choices\n",
    "user_choices = []\n",
    "\n",
    "print(\"\\nLet's learn a little about who you are\\n\")\n",
    "\n",
    "for round_num in range(1):\n",
    "    print(f\"\\nRound {round_num + 1}\")\n",
    "\n",
    "    # Get AI-generated scenario and actions\n",
    "    scenario_output = generate_scenario_and_actions(themes)\n",
    "    lines = scenario_output.split(\"\\n\")\n",
    "    \n",
    "    # Filter out empty lines and lines with length <= 3\n",
    "    filtered_lines = [line for line in lines if len(line.strip()) > 3]\n",
    "\n",
    "    situation = filtered_lines[0].strip()\n",
    "    action_1 = filtered_lines[1].strip()\n",
    "    action_2 = filtered_lines[2].strip()\n",
    "\n",
    "    print(f\"\\n{situation}\\n\")\n",
    "    print(f\"{action_1}\")\n",
    "    print(f\"{action_2}\")\n",
    "\n",
    "    choice = input(\"Pick an option (1/2): \").strip()\n",
    "    if choice not in [\"1\", \"2\"]:\n",
    "        print(\"Invalid choice! Choosing randomly for you...\")\n",
    "        choice = str(random.choice([\"1\", \"2\"]))\n",
    "\n",
    "    user_choices.append(action_1 if choice == \"1\" else action_2)\n",
    "\n",
    "print(\"\\nQuiz complete! Analyzing your personality...\\n\")"
   ]
  },
  {
   "cell_type": "code",
   "execution_count": 31,
   "id": "97a081e0",
   "metadata": {},
   "outputs": [
    {
     "name": "stdout",
     "output_type": "stream",
     "text": [
      "Personality Summary: You're a vibrant spirit with a penchant for the unconventional!  Your approach to problem-solving is delightfully eccentric, veering wildly between creative chaos (PowerPoint presentations and geckos!) and surprisingly ambitious feats of willpower (peanut-powered Kevin capture attempts).  Expect the unexpected – and possibly a small reptile.\n"
     ]
    }
   ],
   "source": [
    "def analyse_personality(choices):\n",
    "    prompt = f\"\"\"\n",
    "    Based on the following choices, provide a fun and concise personality analysis:\n",
    "    \n",
    "    Choices:\n",
    "    {choices}\n",
    "\n",
    "    Write 2-3 sentences summarising my personality in an engaging way.\n",
    "    \"\"\"\n",
    "\n",
    "    model = genai.GenerativeModel(\"gemini-1.5-flash\")\n",
    "    response = model.generate_content(prompt)\n",
    "    return response.text.strip()\n",
    "\n",
    "personality_summary = analyse_personality(user_choices)\n",
    "\n",
    "print(f\"Personality Summary: {personality_summary}\")\n"
   ]
  }
 ],
 "metadata": {
  "kernelspec": {
   "display_name": "base",
   "language": "python",
   "name": "python3"
  },
  "language_info": {
   "codemirror_mode": {
    "name": "ipython",
    "version": 3
   },
   "file_extension": ".py",
   "mimetype": "text/x-python",
   "name": "python",
   "nbconvert_exporter": "python",
   "pygments_lexer": "ipython3",
   "version": "3.10.9"
  }
 },
 "nbformat": 4,
 "nbformat_minor": 5
}
